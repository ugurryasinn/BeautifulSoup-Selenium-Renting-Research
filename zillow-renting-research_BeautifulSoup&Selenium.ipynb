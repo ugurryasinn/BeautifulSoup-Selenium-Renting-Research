{
 "cells": [
  {
   "cell_type": "code",
   "execution_count": 9,
   "id": "a6d3a2ec",
   "metadata": {},
   "outputs": [],
   "source": [
    "import requests\n",
    "from bs4 import BeautifulSoup\n",
    "from selenium import webdriver\n",
    "from selenium.webdriver.common.by import By\n",
    "import time\n",
    "\n"
   ]
  },
  {
   "cell_type": "code",
   "execution_count": 10,
   "id": "05ea9995",
   "metadata": {},
   "outputs": [],
   "source": [
    "headers = {\n",
    "\t\"User-Agent\":\"Mozilla/5.0 (Windows NT 10.0; Win64; x64) AppleWebKit/537.36 (KHTML, like Gecko) Chrome/101.0.4951.67 Safari/537.36\",\n",
    "\t\"Accept-Language\":\"tr-TR,tr;q=0.9,en-US;q=0.8,en;q=0.7\"\n",
    "}\n",
    "\n",
    "r = requests.get(\"https://www.zillow.com/homes/for_rent/1-_beds/?searchQueryState=%7B%22pagination%22%3A%7B%7D%2C%22mapBounds%22%3A%7B%22west%22%3A-122.8563026328125%2C%22east%22%3A-122.0103553671875%2C%22south%22%3A37.49579833493858%2C%22north%22%3A38.05373194258514%7D%2C%22isMapVisible%22%3Atrue%2C%22filterState%22%3A%7B%22price%22%3A%7B%22max%22%3A872627%7D%2C%22beds%22%3A%7B%22min%22%3A1%7D%2C%22fore%22%3A%7B%22value%22%3Afalse%7D%2C%22mp%22%3A%7B%22max%22%3A3000%7D%2C%22auc%22%3A%7B%22value%22%3Afalse%7D%2C%22nc%22%3A%7B%22value%22%3Afalse%7D%2C%22fr%22%3A%7B%22value%22%3Atrue%7D%2C%22fsbo%22%3A%7B%22value%22%3Afalse%7D%2C%22cmsn%22%3A%7B%22value%22%3Afalse%7D%2C%22fsba%22%3A%7B%22value%22%3Afalse%7D%7D%2C%22isListVisible%22%3Atrue%7D\",\n",
    "                headers=headers)\n",
    "soup = BeautifulSoup(r.content,\"lxml\")\n"
   ]
  },
  {
   "cell_type": "code",
   "execution_count": 11,
   "id": "a45b3144",
   "metadata": {},
   "outputs": [
    {
     "name": "stdout",
     "output_type": "stream",
     "text": [
      "200\n"
     ]
    }
   ],
   "source": [
    "print(r.status_code)"
   ]
  },
  {
   "cell_type": "code",
   "execution_count": 12,
   "id": "dba1397b",
   "metadata": {},
   "outputs": [
    {
     "name": "stdout",
     "output_type": "stream",
     "text": [
      "[<div class=\"list-card-info\"><a class=\"list-card-link list-card-link-top-margin\" href=\"/b/ardenwood-forest-rental-condos-fremont-ca-5XjKMn/\" tabindex=\"0\"><address class=\"list-card-addr\">Ardenwood Forest Rental Condos | 5016 Paseo Padre Pkwy, Fremont, CA</address></a><div class=\"list-card-footer\"></div><div class=\"list-card-heading\"><div class=\"list-card-price\">$2,540+<abbr class=\"list-card-label\"> <!-- -->1 bd</abbr></div><ul class=\"list-card-details\"><li class=\"\">$2,700+<abbr class=\"list-card-label\"> <!-- -->2 bds</abbr></li></ul></div></div>, <div class=\"list-card-info\"><a class=\"list-card-link list-card-link-top-margin\" href=\"/b/solace-apartment-homes-el-sobrante-ca-5XjSkK/\" tabindex=\"0\"><address class=\"list-card-addr\">Solace Apartment Homes | 3535 El Portal Dr, El Sobrante, CA</address></a><div class=\"list-card-footer\"></div><div class=\"list-card-heading\"><div class=\"list-card-price\">$2,475+<abbr class=\"list-card-label\"> <!-- -->1 bd</abbr></div><ul class=\"list-card-details\"><li class=\"\">$2,650+<abbr class=\"list-card-label\"> <!-- -->2 bds</abbr></li></ul></div></div>, <div class=\"list-card-info\"><a class=\"list-card-link list-card-link-top-margin\" href=\"/b/boulders-walnut-creek-ca-5Xk5Js/\" tabindex=\"0\"><address class=\"list-card-addr\">Boulders | 530 N Civic Dr, Walnut Creek, CA</address></a><div class=\"list-card-footer\"></div><div class=\"list-card-heading\"><div class=\"list-card-price\">$2,452+<abbr class=\"list-card-label\"> <!-- -->1 bd</abbr></div><ul class=\"list-card-details\"><li class=\"\">$2,771+<abbr class=\"list-card-label\"> <!-- -->2 bds</abbr></li></ul></div></div>, <div class=\"list-card-info\"><a class=\"list-card-link list-card-link-top-margin\" href=\"https://www.zillow.com/homedetails/203-Coggins-Dr-APT-A104-Pleasant-Hill-CA-94523/2090348866_zpid/\" tabindex=\"0\"><address class=\"list-card-addr\">Villa Montanaro, 203 Coggins Dr APT A104, Pleasant Hill, CA 94523</address></a><div class=\"list-card-footer\"></div><div class=\"list-card-heading\"><div class=\"list-card-price\">$2,770/mo</div><ul class=\"list-card-details\"><li class=\"\">1<abbr class=\"list-card-label\"> <!-- -->bd</abbr></li><li class=\"\">1<abbr class=\"list-card-label\"> <!-- -->ba</abbr></li><li class=\"\">713<abbr class=\"list-card-label\"> <!-- -->sqft</abbr></li><li class=\"list-card-statusText\">- Apartment for rent</li></ul></div></div>, <div class=\"list-card-info\"><a class=\"list-card-link list-card-link-top-margin\" href=\"/b/the-retreat-at-walnut-creek-walnut-creek-ca-5XjSsy/\" tabindex=\"0\"><address class=\"list-card-addr\">The Retreat at Walnut Creek | 1459 Creekside Dr, Walnut Creek, CA</address></a><div class=\"list-card-footer\"></div><div class=\"list-card-heading\"><div class=\"list-card-price\">$2,251+<abbr class=\"list-card-label\"> <!-- -->1 bd</abbr></div><ul class=\"list-card-details\"><li class=\"\">$2,815+<abbr class=\"list-card-label\"> <!-- -->2 bds</abbr></li></ul></div></div>, <div class=\"list-card-info\"><a class=\"list-card-link list-card-link-top-margin\" href=\"https://www.zillow.com/homedetails/4510-Hubbard-St-10746785-Emeryville-CA-94608/2063240280_zpid/\" tabindex=\"0\"><address class=\"list-card-addr\">The Emery, 4510 Hubbard St, Emeryville, CA 94608</address></a><div class=\"list-card-footer\"></div><div class=\"list-card-heading\"><div class=\"list-card-price\">$2,959+/mo</div><ul class=\"list-card-details\"><li class=\"\">1<abbr class=\"list-card-label\"> <!-- -->bd</abbr></li><li class=\"\">1<abbr class=\"list-card-label\"> <!-- -->ba</abbr></li><li class=\"\">639<abbr class=\"list-card-label\"> <!-- -->sqft</abbr></li><li class=\"list-card-statusText\">- Apartment for rent</li></ul></div></div>, <div class=\"list-card-info\"><a class=\"list-card-link\" href=\"/b/the-grand-at-bayfront-hercules-ca-BjbYSL/\" tabindex=\"0\"><address class=\"list-card-addr\">The Grand at Bayfront | 2200 John Muir Pkwy, Hercules, CA</address></a><div class=\"list-card-footer\"></div><div class=\"list-card-heading\"><div class=\"list-card-price\">$2,944+<abbr class=\"list-card-label\"> <!-- -->1 bd</abbr></div><ul class=\"list-card-details\"></ul></div></div>, <div class=\"list-card-info\"><a class=\"list-card-link\" href=\"/b/avalon-walnut-ridge-walnut-creek-ca-5XkJ82/\" tabindex=\"0\"><address class=\"list-card-addr\">Avalon Walnut Ridge | 121 Roble Rd, Walnut Creek, CA</address></a><div class=\"list-card-footer\"></div><div class=\"list-card-heading\"><div class=\"list-card-price\">$2,259+<abbr class=\"list-card-label\"> <!-- -->1 bd</abbr></div><ul class=\"list-card-details\"></ul></div></div>, <div class=\"list-card-info\"><a class=\"list-card-link\" href=\"/b/19th-and-harrison-oakland-ca-BPPyPZ/\" tabindex=\"0\"><address class=\"list-card-addr\">19th and Harrison | 1889 Harrison St, Oakland, CA</address></a><div class=\"list-card-footer\"></div><div class=\"list-card-heading\"><div class=\"list-card-price\">$2,735+<abbr class=\"list-card-label\"> <!-- -->1 bd</abbr></div><ul class=\"list-card-details\"></ul></div></div>, <div class=\"list-card-info list-card-additional-attribution-space\"><div class=\"list-card-footer\"></div><div class=\"list-card-heading\"></div></div>]\n"
     ]
    }
   ],
   "source": [
    "items = soup.find_all(\"div\", attrs={\"class\":\"list-card-info\"})\n",
    "print(items)"
   ]
  },
  {
   "cell_type": "code",
   "execution_count": 15,
   "id": "275947e6",
   "metadata": {},
   "outputs": [
    {
     "name": "stdout",
     "output_type": "stream",
     "text": [
      "https://www.zillow.com//b/ardenwood-forest-rental-condos-fremont-ca-5XjKMn/\n",
      "Ardenwood Forest Rental Condos | 5016 Paseo Padre Pkwy, Fremont, CA$2,540+ 1 bd$2,700+ 2 bds\n",
      "$2,540\n",
      "------------------\n",
      "https://www.zillow.com//b/solace-apartment-homes-el-sobrante-ca-5XjSkK/\n",
      "Solace Apartment Homes | 3535 El Portal Dr, El Sobrante, CA$2,475+ 1 bd$2,650+ 2 bds\n",
      "$2,475\n",
      "------------------\n",
      "https://www.zillow.com//b/boulders-walnut-creek-ca-5Xk5Js/\n",
      "Boulders | 530 N Civic Dr, Walnut Creek, CA$2,452+ 1 bd$2,771+ 2 bds\n",
      "$2,452\n",
      "------------------\n",
      "https://www.zillow.com/homedetails/203-Coggins-Dr-APT-A104-Pleasant-Hill-CA-94523/2090348866_zpid/\n",
      "Villa Montanaro, 203 Coggins Dr APT A104, Pleasant Hill, CA 94523$2,770/mo1 bd1 ba713 sqft- Apartment for rent\n",
      "$2,770/mo\n",
      "------------------\n",
      "https://www.zillow.com//b/the-retreat-at-walnut-creek-walnut-creek-ca-5XjSsy/\n",
      "The Retreat at Walnut Creek | 1459 Creekside Dr, Walnut Creek, CA$2,251+ 1 bd$2,815+ 2 bds\n",
      "$2,251\n",
      "------------------\n",
      "https://www.zillow.com/homedetails/4510-Hubbard-St-10746785-Emeryville-CA-94608/2063240280_zpid/\n",
      "The Emery, 4510 Hubbard St, Emeryville, CA 94608$2,959+/mo1 bd1 ba639 sqft- Apartment for rent\n",
      "$2,959\n",
      "------------------\n",
      "https://www.zillow.com//b/the-grand-at-bayfront-hercules-ca-BjbYSL/\n",
      "The Grand at Bayfront | 2200 John Muir Pkwy, Hercules, CA$2,944+ 1 bd\n",
      "$2,944\n",
      "------------------\n",
      "https://www.zillow.com//b/avalon-walnut-ridge-walnut-creek-ca-5XkJ82/\n",
      "Avalon Walnut Ridge | 121 Roble Rd, Walnut Creek, CA$2,259+ 1 bd\n",
      "$2,259\n",
      "------------------\n",
      "https://www.zillow.com//b/19th-and-harrison-oakland-ca-BPPyPZ/\n",
      "19th and Harrison | 1889 Harrison St, Oakland, CA$2,735+ 1 bd\n",
      "$2,735\n",
      "------------------\n"
     ]
    },
    {
     "ename": "AttributeError",
     "evalue": "'NoneType' object has no attribute 'get'",
     "output_type": "error",
     "traceback": [
      "\u001b[1;31m---------------------------------------------------------------------------\u001b[0m",
      "\u001b[1;31mAttributeError\u001b[0m                            Traceback (most recent call last)",
      "\u001b[1;32mC:\\Users\\UURYAS~1\\AppData\\Local\\Temp/ipykernel_9116/4238597585.py\u001b[0m in \u001b[0;36m<module>\u001b[1;34m\u001b[0m\n\u001b[0;32m      5\u001b[0m \u001b[1;32mfor\u001b[0m \u001b[0mitem\u001b[0m \u001b[1;32min\u001b[0m \u001b[0mitems\u001b[0m\u001b[1;33m:\u001b[0m\u001b[1;33m\u001b[0m\u001b[1;33m\u001b[0m\u001b[0m\n\u001b[0;32m      6\u001b[0m     \u001b[0madress\u001b[0m\u001b[1;33m=\u001b[0m \u001b[0mitem\u001b[0m\u001b[1;33m.\u001b[0m\u001b[0mtext\u001b[0m\u001b[1;33m\u001b[0m\u001b[1;33m\u001b[0m\u001b[0m\n\u001b[1;32m----> 7\u001b[1;33m     \u001b[0mlink\u001b[0m \u001b[1;33m=\u001b[0m \u001b[0mitem\u001b[0m\u001b[1;33m.\u001b[0m\u001b[0mfind\u001b[0m\u001b[1;33m(\u001b[0m\u001b[1;34m\"a\"\u001b[0m\u001b[1;33m,\u001b[0m \u001b[0mattrs\u001b[0m\u001b[1;33m=\u001b[0m\u001b[1;33m{\u001b[0m\u001b[1;34m\"class\"\u001b[0m\u001b[1;33m:\u001b[0m\u001b[1;34m\"list-card-link\"\u001b[0m\u001b[1;33m}\u001b[0m\u001b[1;33m)\u001b[0m\u001b[1;33m.\u001b[0m\u001b[0mget\u001b[0m\u001b[1;33m(\u001b[0m\u001b[1;34m\"href\"\u001b[0m\u001b[1;33m)\u001b[0m\u001b[1;33m\u001b[0m\u001b[1;33m\u001b[0m\u001b[0m\n\u001b[0m\u001b[0;32m      8\u001b[0m     \u001b[1;32mif\u001b[0m \u001b[0mlink\u001b[0m\u001b[1;33m[\u001b[0m\u001b[1;36m0\u001b[0m\u001b[1;33m:\u001b[0m\u001b[1;36m4\u001b[0m\u001b[1;33m]\u001b[0m \u001b[1;33m!=\u001b[0m \u001b[1;34m\"http\"\u001b[0m\u001b[1;33m:\u001b[0m\u001b[1;33m\u001b[0m\u001b[1;33m\u001b[0m\u001b[0m\n\u001b[0;32m      9\u001b[0m         \u001b[0mlink\u001b[0m \u001b[1;33m=\u001b[0m \u001b[1;34m\"https://www.zillow.com/\"\u001b[0m\u001b[1;33m+\u001b[0m\u001b[0mlink\u001b[0m\u001b[1;33m\u001b[0m\u001b[1;33m\u001b[0m\u001b[0m\n",
      "\u001b[1;31mAttributeError\u001b[0m: 'NoneType' object has no attribute 'get'"
     ]
    }
   ],
   "source": [
    "link_list = []\n",
    "adress_list = []\n",
    "price_list = []\n",
    "\n",
    "for item in items:\n",
    "    adress= item.text\n",
    "    link = item.find(\"a\", attrs={\"class\":\"list-card-link\"}).get(\"href\")\n",
    "    if link[0:4] != \"http\":\n",
    "        link = \"https://www.zillow.com/\"+link\n",
    "    price= item.find(\"div\", attrs={\"class\":\"list-card-price\"}).text\n",
    "    \n",
    "    link_list.append(link)\n",
    "    adress_list.append(adress)\n",
    "    price_list.append(price.split(\"+\")[0])\n",
    "    print(link)\n",
    "    print(adress)\n",
    "    print(price.split(\"+\")[0])\n",
    "    print(\"------------------\")"
   ]
  },
  {
   "cell_type": "code",
   "execution_count": 29,
   "id": "0c21537e",
   "metadata": {},
   "outputs": [
    {
     "name": "stdout",
     "output_type": "stream",
     "text": [
      "['https://www.zillow.com/homedetails/5016-Paseo-Padre-Pkwy-570-Fremont-CA-94555/2062106629_zpid/', 'https://www.zillow.com//b/the-soji-apartments-san-leandro-ca-5Xk28k/', 'https://www.zillow.com//b/solace-apartment-homes-el-sobrante-ca-5XjSkK/', 'https://www.zillow.com//b/three21%40belmont-belmont-ca-5YDBx2/', 'https://www.zillow.com//b/villa-montanaro-pleasant-hill-ca-5XjQZM/', 'https://www.zillow.com//b/the-boulevard-pleasant-hill-ca-5XkHrg/', 'https://www.zillow.com//b/the-retreat-at-walnut-creek-walnut-creek-ca-5XjSsy/', 'https://www.zillow.com//b/view-at-marin-san-rafael-ca-5XjPjv/', 'https://www.zillow.com//b/ellinwood-pleasant-hill-ca-5XjVSd/']\n",
      "['Ardenwood Forest Rental Condos, 5016 Paseo Padre Pkwy #570, Fremont, CA 94555$2,540/mo1 bd1 ba531 sqft- Apartment for rent', 'The Soji Apartments | 1200 Davis St, San Leandro, CA$2,145+ 1 bd', 'Solace Apartment Homes | 3535 El Portal Dr, El Sobrante, CA$2,475+ 1 bd$2,650+ 2 bds', 'Three21@Belmont | 321 Oxford Way, Belmont, CA$2,450+ 1 bd', 'Villa Montanaro | 203 Coggins Dr, Pleasant Hill, CA$2,710+ 1 bd', 'The Boulevard | 2635 Contra Costa Blvd, Pleasant Hill, CA$2,300+ 1 bd', 'The Retreat at Walnut Creek | 1459 Creekside Dr, Walnut Creek, CA$2,309+ 1 bd$2,568+ 2 bds', 'VIEW AT MARIN | 300 Channing Way, San Rafael, CA$2,779+ 1 bd', 'Ellinwood | 400 Longbrook Way, Pleasant Hill, CA$2,130+ 1 bd']\n",
      "['$2,540/mo', '$2,145', '$2,475', '$2,450', '$2,710', '$2,300', '$2,309', '$2,779', '$2,130']\n"
     ]
    }
   ],
   "source": [
    "print(link_list)\n",
    "print(adress_list)\n",
    "print(price_list)"
   ]
  },
  {
   "cell_type": "code",
   "execution_count": 30,
   "id": "8b071613",
   "metadata": {},
   "outputs": [
    {
     "name": "stderr",
     "output_type": "stream",
     "text": [
      "C:\\Users\\UURYAS~1\\AppData\\Local\\Temp/ipykernel_7252/340288792.py:2: DeprecationWarning: executable_path has been deprecated, please pass in a Service object\n",
      "  browser = webdriver.Chrome(executable_path=chrome_path)\n"
     ]
    }
   ],
   "source": [
    "chrome_path = \"C:\\Development\\chromedriver.exe\"\n",
    "browser = webdriver.Chrome(executable_path=chrome_path)\n",
    "\n",
    "for i in range (len(price_list)):\n",
    "    if i==0:\n",
    "        browser.get(\"https://docs.google.com/forms/d/e/1FAIpQLSdNxltGE1KJ9_-YV-YebmHyeqctqqQuHp7V-SVw52xfdylcXQ/viewform?usp=sf_link\")\n",
    "    ads = adress_list[i]\n",
    "    prc = price_list[i]\n",
    "    lik = link_list[i]\n",
    "    \n",
    "    adress_input = browser.find_element(By.XPATH, \"//*[@id='mG61Hd']/div[2]/div/div[2]/div[1]/div/div/div[2]/div/div[1]/div/div[1]/input\")\n",
    "    adress_input.send_keys(ads)\n",
    "    time.sleep(2)\n",
    "    \n",
    "    price_input = browser.find_element(By.XPATH, \"//*[@id='mG61Hd']/div[2]/div/div[2]/div[2]/div/div/div[2]/div/div[1]/div/div[1]/input\")\n",
    "    price_input.send_keys(prc)\n",
    "    time.sleep(2)\n",
    "    \n",
    "    adress_input = browser.find_element(By.XPATH, \"//*[@id='mG61Hd']/div[2]/div/div[2]/div[3]/div/div/div[2]/div/div[1]/div/div[1]/input\")\n",
    "    adress_input.send_keys(lik)\n",
    "    time.sleep(2)\n",
    "    \n",
    "    browser.find_element(By.XPATH, \"//*[@id='mG61Hd']/div[2]/div/div[3]/div[1]/div[1]/div\").click()\n",
    "    time.sleep(2)\n",
    "    \n",
    "    browser.find_element(By.XPATH, \"/html/body/div[1]/div[2]/div[1]/div/div[4]/a\").click()\n",
    "    time.sleep(2)\n",
    "\n",
    "    "
   ]
  },
  {
   "cell_type": "code",
   "execution_count": null,
   "id": "1c7b4f65",
   "metadata": {},
   "outputs": [],
   "source": []
  },
  {
   "cell_type": "code",
   "execution_count": null,
   "id": "20c91b57",
   "metadata": {},
   "outputs": [],
   "source": []
  }
 ],
 "metadata": {
  "kernelspec": {
   "display_name": "Python 3 (ipykernel)",
   "language": "python",
   "name": "python3"
  },
  "language_info": {
   "codemirror_mode": {
    "name": "ipython",
    "version": 3
   },
   "file_extension": ".py",
   "mimetype": "text/x-python",
   "name": "python",
   "nbconvert_exporter": "python",
   "pygments_lexer": "ipython3",
   "version": "3.9.7"
  }
 },
 "nbformat": 4,
 "nbformat_minor": 5
}
